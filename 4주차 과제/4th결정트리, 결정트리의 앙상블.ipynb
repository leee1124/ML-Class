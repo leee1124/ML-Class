{
 "cells": [
  {
   "cell_type": "markdown",
   "metadata": {},
   "source": [
    "# 결정트리\n",
    "\n",
    "결정트리는 분류와 회귀 문제에 널리 사용하는 모델\n",
    "\n",
    "결정에 다다르기 위해 예/아니오의 질문을 이어 나가면서 학습\n",
    "\n",
    "## 과대적합 방지\n",
    "1. 사전 가지치기: 트리생성을 미리 중단\n",
    "2. 트리의 최대 깊이 제한, 리프의 최대 개수 제한\n",
    "3. 분할 가능한 포인트의 최소 개수 지정\n",
    "4. 사후 가지치기: 트리를 만든 후 노드를 삭제하거나 병함"
   ]
  },
  {
   "cell_type": "code",
   "execution_count": 61,
   "metadata": {},
   "outputs": [],
   "source": [
    "from IPython.display import display\n",
    "import numpy as np\n",
    "import matplotlib.pyplot as plt\n",
    "import pandas as pd\n",
    "import mglearn\n",
    "from sklearn.datasets import make_blobs\n",
    "from matplotlib import font_manager, rc\n",
    "\n",
    "from matplotlib import font_manager, rc\n",
    "font_name = font_manager.FontProperties(fname=\"c:/Windows/Fonts/H2GTRM.TTF\").get_name()\n",
    "rc('font', family=font_name)"
   ]
  },
  {
   "cell_type": "markdown",
   "metadata": {},
   "source": [
    "### 결정트리의 기본 세팅"
   ]
  },
  {
   "cell_type": "code",
   "execution_count": 4,
   "metadata": {},
   "outputs": [
    {
     "name": "stdout",
     "output_type": "stream",
     "text": [
      "훈련 세트의 정확도: 1.000\n",
      "테스트 세트의 정확도: 0.840\n"
     ]
    }
   ],
   "source": [
    "#결정트리 기본 세팅\n",
    "from sklearn.datasets import make_moons\n",
    "from sklearn.model_selection import train_test_split\n",
    "from sklearn.tree import DecisionTreeClassifier\n",
    "\n",
    "X,y = make_moons(n_samples=100, noise=0.25, random_state=3)\n",
    "X_train, X_test, y_train, y_test = train_test_split(\n",
    "    X,y,random_state=0)\n",
    "tree=DecisionTreeClassifier(random_state=0)\n",
    "tree.fit(X_train, y_train)\n",
    "\n",
    "print(\"훈련 세트의 정확도: {:.3f}\".format(tree.score(X_train, y_train)))\n",
    "print(\"테스트 세트의 정확도: {:.3f}\".format(tree.score(X_test, y_test)))"
   ]
  },
  {
   "cell_type": "markdown",
   "metadata": {},
   "source": [
    "### 결정트리의 깊이 제한"
   ]
  },
  {
   "cell_type": "code",
   "execution_count": 62,
   "metadata": {},
   "outputs": [
    {
     "name": "stdout",
     "output_type": "stream",
     "text": [
      "훈련 세트의 정확도: 0.933\n",
      "테스트 세트의 정확도: 0.800\n"
     ]
    }
   ],
   "source": [
    "#결정트리 깊이 제한 =4\n",
    "\n",
    "X,y = make_moons(n_samples=100, noise=0.25, random_state=3)\n",
    "X_train, X_test, y_train, y_test = train_test_split(\n",
    "    X,y,random_state=0)\n",
    "tree=DecisionTreeClassifier(max_depth=4, random_state=0)\n",
    "tree.fit(X_train, y_train)\n",
    "\n",
    "print(\"훈련 세트의 정확도: {:.3f}\".format(tree.score(X_train, y_train)))\n",
    "print(\"테스트 세트의 정확도: {:.3f}\".format(tree.score(X_test, y_test)))"
   ]
  },
  {
   "cell_type": "code",
   "execution_count": 63,
   "metadata": {
    "scrolled": true
   },
   "outputs": [
    {
     "name": "stdout",
     "output_type": "stream",
     "text": [
      "훈련 세트의 정확도: 0.920\n",
      "테스트 세트의 정확도: 0.800\n"
     ]
    }
   ],
   "source": [
    "#결정트리 깊이 제한 =2\n",
    "\n",
    "X,y = make_moons(n_samples=100, noise=0.25, random_state=3)\n",
    "X_train, X_test, y_train, y_test = train_test_split(\n",
    "    X,y,random_state=0)\n",
    "tree=DecisionTreeClassifier(max_depth=2, random_state=0)\n",
    "tree.fit(X_train, y_train)\n",
    "\n",
    "#훈련 세트의 정확도는 깊이 제한이 4일때보다 소폭 낮아졌지만\n",
    "#테스트 세트의 정확도는 그대로이다.\n",
    "print(\"훈련 세트의 정확도: {:.3f}\".format(tree.score(X_train, y_train)))\n",
    "print(\"테스트 세트의 정확도: {:.3f}\".format(tree.score(X_test, y_test)))"
   ]
  },
  {
   "cell_type": "markdown",
   "metadata": {},
   "source": [
    "### 결정트리의 유방암 데이터"
   ]
  },
  {
   "cell_type": "code",
   "execution_count": 6,
   "metadata": {},
   "outputs": [
    {
     "name": "stdout",
     "output_type": "stream",
     "text": [
      "X_train.shape: (426, 30) X_test.shape:(143, 30)\n",
      "max_depth=1\n",
      "훈련 세트의 점수: 0.923\n",
      "테스트 세트의 점수: 0.923\n",
      "max_depth=4\n",
      "훈련 세트의 점수: 0.988\n",
      "테스트 세트의 점수: 0.951\n",
      "max_depth=8\n",
      "훈련 세트의 점수: 1.000\n",
      "테스트 세트의 점수: 0.937\n"
     ]
    }
   ],
   "source": [
    "#결정트리 유방암 데이터\n",
    "from sklearn.datasets import load_breast_cancer\n",
    "cancer = load_breast_cancer()\n",
    "\n",
    "#훈련세트와 테스트 세트로 나눔\n",
    "X_train, X_test, y_train, y_test = train_test_split(\n",
    "    cancer.data, cancer.target, stratify=cancer.target, random_state=42)\n",
    "print(\"X_train.shape: {}\".format(X_train.shape), \"X_test.shape:{}\".format(X_test.shape))\n",
    "\n",
    "#각 트리당 max_depth는 1,4,8이다\n",
    "#트리의 깊이를 제한하면 과대적합이 줄어듦\n",
    "#훈련세트의 정확도를 떨어뜨리지만 테스트 세트의 정확도는 개선\n",
    "for max_depth in [1,4,8]:\n",
    "    #random_state=0\n",
    "    tree=DecisionTreeClassifier(max_depth = max_depth, random_state=0)\n",
    "    #학습 시작\n",
    "    tree.fit(X_train, y_train)\n",
    "    print(\"max_depth={}\".format(max_depth))\n",
    "    print(\"훈련 세트의 점수: {:.3f}\".format(tree.score(X_train, y_train)))\n",
    "    print(\"테스트 세트의 점수: {:.3f}\".format(tree.score(X_test, y_test)))"
   ]
  },
  {
   "cell_type": "code",
   "execution_count": 64,
   "metadata": {},
   "outputs": [
    {
     "name": "stdout",
     "output_type": "stream",
     "text": [
      "X_train.shape: (381, 30) X_test.shape:(188, 30)\n",
      "max_depth=1\n",
      "훈련 세트의 점수: 0.932\n",
      "테스트 세트의 점수: 0.904\n",
      "max_depth=4\n",
      "훈련 세트의 점수: 0.984\n",
      "테스트 세트의 점수: 0.915\n",
      "max_depth=8\n",
      "훈련 세트의 점수: 0.997\n",
      "테스트 세트의 점수: 0.910\n"
     ]
    }
   ],
   "source": [
    "#random_state값과 test_size를 변경해서 확인을 해보아도 \n",
    "#max_depth 값이 커지면 오히려 테스트 세트의 정확도가 떨어질 수 있음을 확인할 수 있다\n",
    "X_train, X_test, y_train, y_test = train_test_split(\n",
    "    cancer.data, cancer.target, stratify=cancer.target, random_state=21, test_size=0.33)\n",
    "print(\"X_train.shape: {}\".format(X_train.shape), \"X_test.shape:{}\".format(X_test.shape))\n",
    "\n",
    "for max_depth in [1,4,8]:\n",
    "    tree=DecisionTreeClassifier(max_depth = max_depth, random_state=0)\n",
    "    tree.fit(X_train, y_train)\n",
    "    print(\"max_depth={}\".format(max_depth))\n",
    "    print(\"훈련 세트의 점수: {:.3f}\".format(tree.score(X_train, y_train)))\n",
    "    print(\"테스트 세트의 점수: {:.3f}\".format(tree.score(X_test, y_test)))"
   ]
  },
  {
   "cell_type": "code",
   "execution_count": 65,
   "metadata": {},
   "outputs": [
    {
     "name": "stdout",
     "output_type": "stream",
     "text": [
      "X_train.shape: (284, 30) X_test.shape:(285, 30)\n",
      "max_depth=1\n",
      "훈련 세트의 점수: 0.933\n",
      "테스트 세트의 점수: 0.905\n",
      "max_depth=4\n",
      "훈련 세트의 점수: 0.993\n",
      "테스트 세트의 점수: 0.923\n",
      "max_depth=8\n",
      "훈련 세트의 점수: 1.000\n",
      "테스트 세트의 점수: 0.930\n"
     ]
    }
   ],
   "source": [
    "#하지만 테스트 세트의 정확도가 꼭 줄어드는 것은 아님을 확인할 수 있다.\n",
    "X_train, X_test, y_train, y_test = train_test_split(\n",
    "    cancer.data, cancer.target, stratify=cancer.target, random_state=42, test_size=0.5)\n",
    "print(\"X_train.shape: {}\".format(X_train.shape), \"X_test.shape:{}\".format(X_test.shape))\n",
    "\n",
    "for max_depth in [1,4,8]:\n",
    "    tree=DecisionTreeClassifier(max_depth = max_depth, random_state=0)\n",
    "    tree.fit(X_train, y_train)\n",
    "    print(\"max_depth={}\".format(max_depth))\n",
    "    print(\"훈련 세트의 점수: {:.3f}\".format(tree.score(X_train, y_train)))\n",
    "    print(\"테스트 세트의 점수: {:.3f}\".format(tree.score(X_test, y_test)))"
   ]
  },
  {
   "cell_type": "code",
   "execution_count": 9,
   "metadata": {},
   "outputs": [],
   "source": [
    "#graphviz 모듈을 사용해 시각화\n",
    "from sklearn.tree import export_graphviz\n",
    "\n",
    "export_graphviz(tree, out_file=\"tree.dot\", class_names=[\"악성\", \"양성\"],\n",
    "               feature_names=cancer.feature_names, impurity=False, filled=True)"
   ]
  },
  {
   "cell_type": "code",
   "execution_count": 10,
   "metadata": {
    "scrolled": true
   },
   "outputs": [
    {
     "data": {
      "image/svg+xml": [
       "<?xml version=\"1.0\" encoding=\"UTF-8\" standalone=\"no\"?>\r\n",
       "<!DOCTYPE svg PUBLIC \"-//W3C//DTD SVG 1.1//EN\"\r\n",
       " \"http://www.w3.org/Graphics/SVG/1.1/DTD/svg11.dtd\">\r\n",
       "<!-- Generated by graphviz version 2.47.0 (20210316.0004)\r\n",
       " -->\r\n",
       "<!-- Title: Tree Pages: 1 -->\r\n",
       "<svg width=\"995pt\" height=\"685pt\"\r\n",
       " viewBox=\"0.00 0.00 995.00 685.00\" xmlns=\"http://www.w3.org/2000/svg\" xmlns:xlink=\"http://www.w3.org/1999/xlink\">\r\n",
       "<g id=\"graph0\" class=\"graph\" transform=\"scale(1 1) rotate(0) translate(4 681)\">\r\n",
       "<title>Tree</title>\r\n",
       "<polygon fill=\"white\" stroke=\"transparent\" points=\"-4,4 -4,-681 991,-681 991,4 -4,4\"/>\r\n",
       "<!-- 0 -->\r\n",
       "<g id=\"node1\" class=\"node\">\r\n",
       "<title>0</title>\r\n",
       "<polygon fill=\"#afd7f4\" stroke=\"black\" points=\"810,-677 619,-677 619,-609 810,-609 810,-677\"/>\r\n",
       "<text text-anchor=\"middle\" x=\"714.5\" y=\"-661.8\" font-family=\"Times New Roman,serif\" font-size=\"14.00\">worst concave points &lt;= 0.142</text>\r\n",
       "<text text-anchor=\"middle\" x=\"714.5\" y=\"-646.8\" font-family=\"Times New Roman,serif\" font-size=\"14.00\">samples = 284</text>\r\n",
       "<text text-anchor=\"middle\" x=\"714.5\" y=\"-631.8\" font-family=\"Times New Roman,serif\" font-size=\"14.00\">value = [106, 178]</text>\r\n",
       "<text text-anchor=\"middle\" x=\"714.5\" y=\"-616.8\" font-family=\"Times New Roman,serif\" font-size=\"14.00\">class = 양성</text>\r\n",
       "</g>\r\n",
       "<!-- 1 -->\r\n",
       "<g id=\"node2\" class=\"node\">\r\n",
       "<title>1</title>\r\n",
       "<polygon fill=\"#4aa5e7\" stroke=\"black\" points=\"653.5,-573 513.5,-573 513.5,-505 653.5,-505 653.5,-573\"/>\r\n",
       "<text text-anchor=\"middle\" x=\"583.5\" y=\"-557.8\" font-family=\"Times New Roman,serif\" font-size=\"14.00\">worst radius &lt;= 16.83</text>\r\n",
       "<text text-anchor=\"middle\" x=\"583.5\" y=\"-542.8\" font-family=\"Times New Roman,serif\" font-size=\"14.00\">samples = 189</text>\r\n",
       "<text text-anchor=\"middle\" x=\"583.5\" y=\"-527.8\" font-family=\"Times New Roman,serif\" font-size=\"14.00\">value = [15, 174]</text>\r\n",
       "<text text-anchor=\"middle\" x=\"583.5\" y=\"-512.8\" font-family=\"Times New Roman,serif\" font-size=\"14.00\">class = 양성</text>\r\n",
       "</g>\r\n",
       "<!-- 0&#45;&gt;1 -->\r\n",
       "<g id=\"edge1\" class=\"edge\">\r\n",
       "<title>0&#45;&gt;1</title>\r\n",
       "<path fill=\"none\" stroke=\"black\" d=\"M671.97,-608.88C659.96,-599.53 646.76,-589.26 634.32,-579.57\"/>\r\n",
       "<polygon fill=\"black\" stroke=\"black\" points=\"636.31,-576.68 626.27,-573.3 632.01,-582.2 636.31,-576.68\"/>\r\n",
       "<text text-anchor=\"middle\" x=\"629.35\" y=\"-594.41\" font-family=\"Times New Roman,serif\" font-size=\"14.00\">True</text>\r\n",
       "</g>\r\n",
       "<!-- 20 -->\r\n",
       "<g id=\"node21\" class=\"node\">\r\n",
       "<title>20</title>\r\n",
       "<polygon fill=\"#e68742\" stroke=\"black\" points=\"871,-573 722,-573 722,-505 871,-505 871,-573\"/>\r\n",
       "<text text-anchor=\"middle\" x=\"796.5\" y=\"-557.8\" font-family=\"Times New Roman,serif\" font-size=\"14.00\">concavity error &lt;= 0.13</text>\r\n",
       "<text text-anchor=\"middle\" x=\"796.5\" y=\"-542.8\" font-family=\"Times New Roman,serif\" font-size=\"14.00\">samples = 95</text>\r\n",
       "<text text-anchor=\"middle\" x=\"796.5\" y=\"-527.8\" font-family=\"Times New Roman,serif\" font-size=\"14.00\">value = [91, 4]</text>\r\n",
       "<text text-anchor=\"middle\" x=\"796.5\" y=\"-512.8\" font-family=\"Times New Roman,serif\" font-size=\"14.00\">class = 악성</text>\r\n",
       "</g>\r\n",
       "<!-- 0&#45;&gt;20 -->\r\n",
       "<g id=\"edge20\" class=\"edge\">\r\n",
       "<title>0&#45;&gt;20</title>\r\n",
       "<path fill=\"none\" stroke=\"black\" d=\"M741.12,-608.88C748.21,-600.07 755.96,-590.43 763.35,-581.24\"/>\r\n",
       "<polygon fill=\"black\" stroke=\"black\" points=\"766.19,-583.29 769.73,-573.3 760.74,-578.9 766.19,-583.29\"/>\r\n",
       "<text text-anchor=\"middle\" x=\"772.43\" y=\"-594.45\" font-family=\"Times New Roman,serif\" font-size=\"14.00\">False</text>\r\n",
       "</g>\r\n",
       "<!-- 2 -->\r\n",
       "<g id=\"node3\" class=\"node\">\r\n",
       "<title>2</title>\r\n",
       "<polygon fill=\"#3c9fe5\" stroke=\"black\" points=\"448,-469 279,-469 279,-401 448,-401 448,-469\"/>\r\n",
       "<text text-anchor=\"middle\" x=\"363.5\" y=\"-453.8\" font-family=\"Times New Roman,serif\" font-size=\"14.00\">smoothness error &lt;= 0.003</text>\r\n",
       "<text text-anchor=\"middle\" x=\"363.5\" y=\"-438.8\" font-family=\"Times New Roman,serif\" font-size=\"14.00\">samples = 173</text>\r\n",
       "<text text-anchor=\"middle\" x=\"363.5\" y=\"-423.8\" font-family=\"Times New Roman,serif\" font-size=\"14.00\">value = [3, 170]</text>\r\n",
       "<text text-anchor=\"middle\" x=\"363.5\" y=\"-408.8\" font-family=\"Times New Roman,serif\" font-size=\"14.00\">class = 양성</text>\r\n",
       "</g>\r\n",
       "<!-- 1&#45;&gt;2 -->\r\n",
       "<g id=\"edge2\" class=\"edge\">\r\n",
       "<title>1&#45;&gt;2</title>\r\n",
       "<path fill=\"none\" stroke=\"black\" d=\"M513.29,-505.45C491.29,-495.25 466.84,-483.91 444.19,-473.41\"/>\r\n",
       "<polygon fill=\"black\" stroke=\"black\" points=\"445.48,-470.15 434.94,-469.12 442.54,-476.5 445.48,-470.15\"/>\r\n",
       "</g>\r\n",
       "<!-- 15 -->\r\n",
       "<g id=\"node16\" class=\"node\">\r\n",
       "<title>15</title>\r\n",
       "<polygon fill=\"#eeab7b\" stroke=\"black\" points=\"651,-469 516,-469 516,-401 651,-401 651,-469\"/>\r\n",
       "<text text-anchor=\"middle\" x=\"583.5\" y=\"-453.8\" font-family=\"Times New Roman,serif\" font-size=\"14.00\">mean texture &lt;= 16.5</text>\r\n",
       "<text text-anchor=\"middle\" x=\"583.5\" y=\"-438.8\" font-family=\"Times New Roman,serif\" font-size=\"14.00\">samples = 16</text>\r\n",
       "<text text-anchor=\"middle\" x=\"583.5\" y=\"-423.8\" font-family=\"Times New Roman,serif\" font-size=\"14.00\">value = [12, 4]</text>\r\n",
       "<text text-anchor=\"middle\" x=\"583.5\" y=\"-408.8\" font-family=\"Times New Roman,serif\" font-size=\"14.00\">class = 악성</text>\r\n",
       "</g>\r\n",
       "<!-- 1&#45;&gt;15 -->\r\n",
       "<g id=\"edge15\" class=\"edge\">\r\n",
       "<title>1&#45;&gt;15</title>\r\n",
       "<path fill=\"none\" stroke=\"black\" d=\"M583.5,-504.88C583.5,-496.78 583.5,-487.98 583.5,-479.47\"/>\r\n",
       "<polygon fill=\"black\" stroke=\"black\" points=\"587,-479.3 583.5,-469.3 580,-479.3 587,-479.3\"/>\r\n",
       "</g>\r\n",
       "<!-- 3 -->\r\n",
       "<g id=\"node4\" class=\"node\">\r\n",
       "<title>3</title>\r\n",
       "<polygon fill=\"#ffffff\" stroke=\"black\" points=\"249.5,-365 69.5,-365 69.5,-297 249.5,-297 249.5,-365\"/>\r\n",
       "<text text-anchor=\"middle\" x=\"159.5\" y=\"-349.8\" font-family=\"Times New Roman,serif\" font-size=\"14.00\">worst compactness &lt;= 0.141</text>\r\n",
       "<text text-anchor=\"middle\" x=\"159.5\" y=\"-334.8\" font-family=\"Times New Roman,serif\" font-size=\"14.00\">samples = 2</text>\r\n",
       "<text text-anchor=\"middle\" x=\"159.5\" y=\"-319.8\" font-family=\"Times New Roman,serif\" font-size=\"14.00\">value = [1, 1]</text>\r\n",
       "<text text-anchor=\"middle\" x=\"159.5\" y=\"-304.8\" font-family=\"Times New Roman,serif\" font-size=\"14.00\">class = 악성</text>\r\n",
       "</g>\r\n",
       "<!-- 2&#45;&gt;3 -->\r\n",
       "<g id=\"edge3\" class=\"edge\">\r\n",
       "<title>2&#45;&gt;3</title>\r\n",
       "<path fill=\"none\" stroke=\"black\" d=\"M297.27,-400.88C277.3,-390.9 255.24,-379.87 234.74,-369.62\"/>\r\n",
       "<polygon fill=\"black\" stroke=\"black\" points=\"236.26,-366.47 225.75,-365.12 233.13,-372.73 236.26,-366.47\"/>\r\n",
       "</g>\r\n",
       "<!-- 6 -->\r\n",
       "<g id=\"node7\" class=\"node\">\r\n",
       "<title>6</title>\r\n",
       "<polygon fill=\"#3b9ee5\" stroke=\"black\" points=\"459,-365 268,-365 268,-297 459,-297 459,-365\"/>\r\n",
       "<text text-anchor=\"middle\" x=\"363.5\" y=\"-349.8\" font-family=\"Times New Roman,serif\" font-size=\"14.00\">worst concave points &lt;= 0.137</text>\r\n",
       "<text text-anchor=\"middle\" x=\"363.5\" y=\"-334.8\" font-family=\"Times New Roman,serif\" font-size=\"14.00\">samples = 171</text>\r\n",
       "<text text-anchor=\"middle\" x=\"363.5\" y=\"-319.8\" font-family=\"Times New Roman,serif\" font-size=\"14.00\">value = [2, 169]</text>\r\n",
       "<text text-anchor=\"middle\" x=\"363.5\" y=\"-304.8\" font-family=\"Times New Roman,serif\" font-size=\"14.00\">class = 양성</text>\r\n",
       "</g>\r\n",
       "<!-- 2&#45;&gt;6 -->\r\n",
       "<g id=\"edge6\" class=\"edge\">\r\n",
       "<title>2&#45;&gt;6</title>\r\n",
       "<path fill=\"none\" stroke=\"black\" d=\"M363.5,-400.88C363.5,-392.78 363.5,-383.98 363.5,-375.47\"/>\r\n",
       "<polygon fill=\"black\" stroke=\"black\" points=\"367,-375.3 363.5,-365.3 360,-375.3 367,-375.3\"/>\r\n",
       "</g>\r\n",
       "<!-- 4 -->\r\n",
       "<g id=\"node5\" class=\"node\">\r\n",
       "<title>4</title>\r\n",
       "<polygon fill=\"#399de5\" stroke=\"black\" points=\"95,-253.5 0,-253.5 0,-200.5 95,-200.5 95,-253.5\"/>\r\n",
       "<text text-anchor=\"middle\" x=\"47.5\" y=\"-238.3\" font-family=\"Times New Roman,serif\" font-size=\"14.00\">samples = 1</text>\r\n",
       "<text text-anchor=\"middle\" x=\"47.5\" y=\"-223.3\" font-family=\"Times New Roman,serif\" font-size=\"14.00\">value = [0, 1]</text>\r\n",
       "<text text-anchor=\"middle\" x=\"47.5\" y=\"-208.3\" font-family=\"Times New Roman,serif\" font-size=\"14.00\">class = 양성</text>\r\n",
       "</g>\r\n",
       "<!-- 3&#45;&gt;4 -->\r\n",
       "<g id=\"edge4\" class=\"edge\">\r\n",
       "<title>3&#45;&gt;4</title>\r\n",
       "<path fill=\"none\" stroke=\"black\" d=\"M123.14,-296.88C110.34,-285.23 95.97,-272.14 83.22,-260.53\"/>\r\n",
       "<polygon fill=\"black\" stroke=\"black\" points=\"85.27,-257.67 75.52,-253.52 80.56,-262.84 85.27,-257.67\"/>\r\n",
       "</g>\r\n",
       "<!-- 5 -->\r\n",
       "<g id=\"node6\" class=\"node\">\r\n",
       "<title>5</title>\r\n",
       "<polygon fill=\"#e58139\" stroke=\"black\" points=\"208,-253.5 113,-253.5 113,-200.5 208,-200.5 208,-253.5\"/>\r\n",
       "<text text-anchor=\"middle\" x=\"160.5\" y=\"-238.3\" font-family=\"Times New Roman,serif\" font-size=\"14.00\">samples = 1</text>\r\n",
       "<text text-anchor=\"middle\" x=\"160.5\" y=\"-223.3\" font-family=\"Times New Roman,serif\" font-size=\"14.00\">value = [1, 0]</text>\r\n",
       "<text text-anchor=\"middle\" x=\"160.5\" y=\"-208.3\" font-family=\"Times New Roman,serif\" font-size=\"14.00\">class = 악성</text>\r\n",
       "</g>\r\n",
       "<!-- 3&#45;&gt;5 -->\r\n",
       "<g id=\"edge5\" class=\"edge\">\r\n",
       "<title>3&#45;&gt;5</title>\r\n",
       "<path fill=\"none\" stroke=\"black\" d=\"M159.82,-296.88C159.93,-286.33 160.04,-274.6 160.15,-263.85\"/>\r\n",
       "<polygon fill=\"black\" stroke=\"black\" points=\"163.65,-263.55 160.25,-253.52 156.65,-263.49 163.65,-263.55\"/>\r\n",
       "</g>\r\n",
       "<!-- 7 -->\r\n",
       "<g id=\"node8\" class=\"node\">\r\n",
       "<title>7</title>\r\n",
       "<polygon fill=\"#3a9ee5\" stroke=\"black\" points=\"374.5,-261 230.5,-261 230.5,-193 374.5,-193 374.5,-261\"/>\r\n",
       "<text text-anchor=\"middle\" x=\"302.5\" y=\"-245.8\" font-family=\"Times New Roman,serif\" font-size=\"14.00\">worst texture &lt;= 33.35</text>\r\n",
       "<text text-anchor=\"middle\" x=\"302.5\" y=\"-230.8\" font-family=\"Times New Roman,serif\" font-size=\"14.00\">samples = 167</text>\r\n",
       "<text text-anchor=\"middle\" x=\"302.5\" y=\"-215.8\" font-family=\"Times New Roman,serif\" font-size=\"14.00\">value = [1, 166]</text>\r\n",
       "<text text-anchor=\"middle\" x=\"302.5\" y=\"-200.8\" font-family=\"Times New Roman,serif\" font-size=\"14.00\">class = 양성</text>\r\n",
       "</g>\r\n",
       "<!-- 6&#45;&gt;7 -->\r\n",
       "<g id=\"edge7\" class=\"edge\">\r\n",
       "<title>6&#45;&gt;7</title>\r\n",
       "<path fill=\"none\" stroke=\"black\" d=\"M343.7,-296.88C338.58,-288.33 333.01,-279.01 327.66,-270.07\"/>\r\n",
       "<polygon fill=\"black\" stroke=\"black\" points=\"330.55,-268.09 322.41,-261.3 324.54,-271.68 330.55,-268.09\"/>\r\n",
       "</g>\r\n",
       "<!-- 12 -->\r\n",
       "<g id=\"node13\" class=\"node\">\r\n",
       "<title>12</title>\r\n",
       "<polygon fill=\"#7bbeee\" stroke=\"black\" points=\"590,-261 393,-261 393,-193 590,-193 590,-261\"/>\r\n",
       "<text text-anchor=\"middle\" x=\"491.5\" y=\"-245.8\" font-family=\"Times New Roman,serif\" font-size=\"14.00\">fractal dimension error &lt;= 0.003</text>\r\n",
       "<text text-anchor=\"middle\" x=\"491.5\" y=\"-230.8\" font-family=\"Times New Roman,serif\" font-size=\"14.00\">samples = 4</text>\r\n",
       "<text text-anchor=\"middle\" x=\"491.5\" y=\"-215.8\" font-family=\"Times New Roman,serif\" font-size=\"14.00\">value = [1, 3]</text>\r\n",
       "<text text-anchor=\"middle\" x=\"491.5\" y=\"-200.8\" font-family=\"Times New Roman,serif\" font-size=\"14.00\">class = 양성</text>\r\n",
       "</g>\r\n",
       "<!-- 6&#45;&gt;12 -->\r\n",
       "<g id=\"edge12\" class=\"edge\">\r\n",
       "<title>6&#45;&gt;12</title>\r\n",
       "<path fill=\"none\" stroke=\"black\" d=\"M405.06,-296.88C416.79,-287.53 429.68,-277.26 441.85,-267.57\"/>\r\n",
       "<polygon fill=\"black\" stroke=\"black\" points=\"444.07,-270.27 449.71,-261.3 439.71,-264.79 444.07,-270.27\"/>\r\n",
       "</g>\r\n",
       "<!-- 8 -->\r\n",
       "<g id=\"node9\" class=\"node\">\r\n",
       "<title>8</title>\r\n",
       "<polygon fill=\"#399de5\" stroke=\"black\" points=\"229.5,-149.5 125.5,-149.5 125.5,-96.5 229.5,-96.5 229.5,-149.5\"/>\r\n",
       "<text text-anchor=\"middle\" x=\"177.5\" y=\"-134.3\" font-family=\"Times New Roman,serif\" font-size=\"14.00\">samples = 155</text>\r\n",
       "<text text-anchor=\"middle\" x=\"177.5\" y=\"-119.3\" font-family=\"Times New Roman,serif\" font-size=\"14.00\">value = [0, 155]</text>\r\n",
       "<text text-anchor=\"middle\" x=\"177.5\" y=\"-104.3\" font-family=\"Times New Roman,serif\" font-size=\"14.00\">class = 양성</text>\r\n",
       "</g>\r\n",
       "<!-- 7&#45;&gt;8 -->\r\n",
       "<g id=\"edge8\" class=\"edge\">\r\n",
       "<title>7&#45;&gt;8</title>\r\n",
       "<path fill=\"none\" stroke=\"black\" d=\"M261.92,-192.88C247.36,-181.01 230.99,-167.65 216.56,-155.88\"/>\r\n",
       "<polygon fill=\"black\" stroke=\"black\" points=\"218.74,-153.13 208.77,-149.52 214.31,-158.55 218.74,-153.13\"/>\r\n",
       "</g>\r\n",
       "<!-- 9 -->\r\n",
       "<g id=\"node10\" class=\"node\">\r\n",
       "<title>9</title>\r\n",
       "<polygon fill=\"#4ba6e7\" stroke=\"black\" points=\"385,-157 248,-157 248,-89 385,-89 385,-157\"/>\r\n",
       "<text text-anchor=\"middle\" x=\"316.5\" y=\"-141.8\" font-family=\"Times New Roman,serif\" font-size=\"14.00\">worst texture &lt;= 33.8</text>\r\n",
       "<text text-anchor=\"middle\" x=\"316.5\" y=\"-126.8\" font-family=\"Times New Roman,serif\" font-size=\"14.00\">samples = 12</text>\r\n",
       "<text text-anchor=\"middle\" x=\"316.5\" y=\"-111.8\" font-family=\"Times New Roman,serif\" font-size=\"14.00\">value = [1, 11]</text>\r\n",
       "<text text-anchor=\"middle\" x=\"316.5\" y=\"-96.8\" font-family=\"Times New Roman,serif\" font-size=\"14.00\">class = 양성</text>\r\n",
       "</g>\r\n",
       "<!-- 7&#45;&gt;9 -->\r\n",
       "<g id=\"edge9\" class=\"edge\">\r\n",
       "<title>7&#45;&gt;9</title>\r\n",
       "<path fill=\"none\" stroke=\"black\" d=\"M307.05,-192.88C308.16,-184.78 309.37,-175.98 310.53,-167.47\"/>\r\n",
       "<polygon fill=\"black\" stroke=\"black\" points=\"314.04,-167.68 311.93,-157.3 307.1,-166.73 314.04,-167.68\"/>\r\n",
       "</g>\r\n",
       "<!-- 10 -->\r\n",
       "<g id=\"node11\" class=\"node\">\r\n",
       "<title>10</title>\r\n",
       "<polygon fill=\"#e58139\" stroke=\"black\" points=\"306,-53 211,-53 211,0 306,0 306,-53\"/>\r\n",
       "<text text-anchor=\"middle\" x=\"258.5\" y=\"-37.8\" font-family=\"Times New Roman,serif\" font-size=\"14.00\">samples = 1</text>\r\n",
       "<text text-anchor=\"middle\" x=\"258.5\" y=\"-22.8\" font-family=\"Times New Roman,serif\" font-size=\"14.00\">value = [1, 0]</text>\r\n",
       "<text text-anchor=\"middle\" x=\"258.5\" y=\"-7.8\" font-family=\"Times New Roman,serif\" font-size=\"14.00\">class = 악성</text>\r\n",
       "</g>\r\n",
       "<!-- 9&#45;&gt;10 -->\r\n",
       "<g id=\"edge10\" class=\"edge\">\r\n",
       "<title>9&#45;&gt;10</title>\r\n",
       "<path fill=\"none\" stroke=\"black\" d=\"M296.21,-88.95C290.82,-80.17 284.99,-70.66 279.56,-61.82\"/>\r\n",
       "<polygon fill=\"black\" stroke=\"black\" points=\"282.51,-59.93 274.3,-53.24 276.54,-63.59 282.51,-59.93\"/>\r\n",
       "</g>\r\n",
       "<!-- 11 -->\r\n",
       "<g id=\"node12\" class=\"node\">\r\n",
       "<title>11</title>\r\n",
       "<polygon fill=\"#399de5\" stroke=\"black\" points=\"422.5,-53 324.5,-53 324.5,0 422.5,0 422.5,-53\"/>\r\n",
       "<text text-anchor=\"middle\" x=\"373.5\" y=\"-37.8\" font-family=\"Times New Roman,serif\" font-size=\"14.00\">samples = 11</text>\r\n",
       "<text text-anchor=\"middle\" x=\"373.5\" y=\"-22.8\" font-family=\"Times New Roman,serif\" font-size=\"14.00\">value = [0, 11]</text>\r\n",
       "<text text-anchor=\"middle\" x=\"373.5\" y=\"-7.8\" font-family=\"Times New Roman,serif\" font-size=\"14.00\">class = 양성</text>\r\n",
       "</g>\r\n",
       "<!-- 9&#45;&gt;11 -->\r\n",
       "<g id=\"edge11\" class=\"edge\">\r\n",
       "<title>9&#45;&gt;11</title>\r\n",
       "<path fill=\"none\" stroke=\"black\" d=\"M336.44,-88.95C341.73,-80.17 347.47,-70.66 352.8,-61.82\"/>\r\n",
       "<polygon fill=\"black\" stroke=\"black\" points=\"355.81,-63.61 357.98,-53.24 349.81,-59.99 355.81,-63.61\"/>\r\n",
       "</g>\r\n",
       "<!-- 13 -->\r\n",
       "<g id=\"node14\" class=\"node\">\r\n",
       "<title>13</title>\r\n",
       "<polygon fill=\"#e58139\" stroke=\"black\" points=\"525,-149.5 430,-149.5 430,-96.5 525,-96.5 525,-149.5\"/>\r\n",
       "<text text-anchor=\"middle\" x=\"477.5\" y=\"-134.3\" font-family=\"Times New Roman,serif\" font-size=\"14.00\">samples = 1</text>\r\n",
       "<text text-anchor=\"middle\" x=\"477.5\" y=\"-119.3\" font-family=\"Times New Roman,serif\" font-size=\"14.00\">value = [1, 0]</text>\r\n",
       "<text text-anchor=\"middle\" x=\"477.5\" y=\"-104.3\" font-family=\"Times New Roman,serif\" font-size=\"14.00\">class = 악성</text>\r\n",
       "</g>\r\n",
       "<!-- 12&#45;&gt;13 -->\r\n",
       "<g id=\"edge13\" class=\"edge\">\r\n",
       "<title>12&#45;&gt;13</title>\r\n",
       "<path fill=\"none\" stroke=\"black\" d=\"M486.95,-192.88C485.49,-182.22 483.86,-170.35 482.38,-159.52\"/>\r\n",
       "<polygon fill=\"black\" stroke=\"black\" points=\"485.83,-158.95 481,-149.52 478.9,-159.9 485.83,-158.95\"/>\r\n",
       "</g>\r\n",
       "<!-- 14 -->\r\n",
       "<g id=\"node15\" class=\"node\">\r\n",
       "<title>14</title>\r\n",
       "<polygon fill=\"#399de5\" stroke=\"black\" points=\"638,-149.5 543,-149.5 543,-96.5 638,-96.5 638,-149.5\"/>\r\n",
       "<text text-anchor=\"middle\" x=\"590.5\" y=\"-134.3\" font-family=\"Times New Roman,serif\" font-size=\"14.00\">samples = 3</text>\r\n",
       "<text text-anchor=\"middle\" x=\"590.5\" y=\"-119.3\" font-family=\"Times New Roman,serif\" font-size=\"14.00\">value = [0, 3]</text>\r\n",
       "<text text-anchor=\"middle\" x=\"590.5\" y=\"-104.3\" font-family=\"Times New Roman,serif\" font-size=\"14.00\">class = 양성</text>\r\n",
       "</g>\r\n",
       "<!-- 12&#45;&gt;14 -->\r\n",
       "<g id=\"edge14\" class=\"edge\">\r\n",
       "<title>12&#45;&gt;14</title>\r\n",
       "<path fill=\"none\" stroke=\"black\" d=\"M523.64,-192.88C534.85,-181.34 547.42,-168.39 558.61,-156.86\"/>\r\n",
       "<polygon fill=\"black\" stroke=\"black\" points=\"561.28,-159.13 565.73,-149.52 556.25,-154.26 561.28,-159.13\"/>\r\n",
       "</g>\r\n",
       "<!-- 16 -->\r\n",
       "<g id=\"node17\" class=\"node\">\r\n",
       "<title>16</title>\r\n",
       "<polygon fill=\"#399de5\" stroke=\"black\" points=\"572,-357.5 477,-357.5 477,-304.5 572,-304.5 572,-357.5\"/>\r\n",
       "<text text-anchor=\"middle\" x=\"524.5\" y=\"-342.3\" font-family=\"Times New Roman,serif\" font-size=\"14.00\">samples = 3</text>\r\n",
       "<text text-anchor=\"middle\" x=\"524.5\" y=\"-327.3\" font-family=\"Times New Roman,serif\" font-size=\"14.00\">value = [0, 3]</text>\r\n",
       "<text text-anchor=\"middle\" x=\"524.5\" y=\"-312.3\" font-family=\"Times New Roman,serif\" font-size=\"14.00\">class = 양성</text>\r\n",
       "</g>\r\n",
       "<!-- 15&#45;&gt;16 -->\r\n",
       "<g id=\"edge16\" class=\"edge\">\r\n",
       "<title>15&#45;&gt;16</title>\r\n",
       "<path fill=\"none\" stroke=\"black\" d=\"M564.34,-400.88C557.92,-389.78 550.74,-377.37 544.27,-366.18\"/>\r\n",
       "<polygon fill=\"black\" stroke=\"black\" points=\"547.3,-364.42 539.26,-357.52 541.24,-367.93 547.3,-364.42\"/>\r\n",
       "</g>\r\n",
       "<!-- 17 -->\r\n",
       "<g id=\"node18\" class=\"node\">\r\n",
       "<title>17</title>\r\n",
       "<polygon fill=\"#e78c49\" stroke=\"black\" points=\"730.5,-365 590.5,-365 590.5,-297 730.5,-297 730.5,-365\"/>\r\n",
       "<text text-anchor=\"middle\" x=\"660.5\" y=\"-349.8\" font-family=\"Times New Roman,serif\" font-size=\"14.00\">texture error &lt;= 1.863</text>\r\n",
       "<text text-anchor=\"middle\" x=\"660.5\" y=\"-334.8\" font-family=\"Times New Roman,serif\" font-size=\"14.00\">samples = 13</text>\r\n",
       "<text text-anchor=\"middle\" x=\"660.5\" y=\"-319.8\" font-family=\"Times New Roman,serif\" font-size=\"14.00\">value = [12, 1]</text>\r\n",
       "<text text-anchor=\"middle\" x=\"660.5\" y=\"-304.8\" font-family=\"Times New Roman,serif\" font-size=\"14.00\">class = 악성</text>\r\n",
       "</g>\r\n",
       "<!-- 15&#45;&gt;17 -->\r\n",
       "<g id=\"edge17\" class=\"edge\">\r\n",
       "<title>15&#45;&gt;17</title>\r\n",
       "<path fill=\"none\" stroke=\"black\" d=\"M608.5,-400.88C615.09,-392.15 622.28,-382.62 629.16,-373.51\"/>\r\n",
       "<polygon fill=\"black\" stroke=\"black\" points=\"632.13,-375.39 635.36,-365.3 626.54,-371.17 632.13,-375.39\"/>\r\n",
       "</g>\r\n",
       "<!-- 18 -->\r\n",
       "<g id=\"node19\" class=\"node\">\r\n",
       "<title>18</title>\r\n",
       "<polygon fill=\"#e58139\" stroke=\"black\" points=\"708.5,-253.5 610.5,-253.5 610.5,-200.5 708.5,-200.5 708.5,-253.5\"/>\r\n",
       "<text text-anchor=\"middle\" x=\"659.5\" y=\"-238.3\" font-family=\"Times New Roman,serif\" font-size=\"14.00\">samples = 12</text>\r\n",
       "<text text-anchor=\"middle\" x=\"659.5\" y=\"-223.3\" font-family=\"Times New Roman,serif\" font-size=\"14.00\">value = [12, 0]</text>\r\n",
       "<text text-anchor=\"middle\" x=\"659.5\" y=\"-208.3\" font-family=\"Times New Roman,serif\" font-size=\"14.00\">class = 악성</text>\r\n",
       "</g>\r\n",
       "<!-- 17&#45;&gt;18 -->\r\n",
       "<g id=\"edge18\" class=\"edge\">\r\n",
       "<title>17&#45;&gt;18</title>\r\n",
       "<path fill=\"none\" stroke=\"black\" d=\"M660.18,-296.88C660.07,-286.33 659.96,-274.6 659.85,-263.85\"/>\r\n",
       "<polygon fill=\"black\" stroke=\"black\" points=\"663.35,-263.49 659.75,-253.52 656.35,-263.55 663.35,-263.49\"/>\r\n",
       "</g>\r\n",
       "<!-- 19 -->\r\n",
       "<g id=\"node20\" class=\"node\">\r\n",
       "<title>19</title>\r\n",
       "<polygon fill=\"#399de5\" stroke=\"black\" points=\"822,-253.5 727,-253.5 727,-200.5 822,-200.5 822,-253.5\"/>\r\n",
       "<text text-anchor=\"middle\" x=\"774.5\" y=\"-238.3\" font-family=\"Times New Roman,serif\" font-size=\"14.00\">samples = 1</text>\r\n",
       "<text text-anchor=\"middle\" x=\"774.5\" y=\"-223.3\" font-family=\"Times New Roman,serif\" font-size=\"14.00\">value = [0, 1]</text>\r\n",
       "<text text-anchor=\"middle\" x=\"774.5\" y=\"-208.3\" font-family=\"Times New Roman,serif\" font-size=\"14.00\">class = 양성</text>\r\n",
       "</g>\r\n",
       "<!-- 17&#45;&gt;19 -->\r\n",
       "<g id=\"edge19\" class=\"edge\">\r\n",
       "<title>17&#45;&gt;19</title>\r\n",
       "<path fill=\"none\" stroke=\"black\" d=\"M697.51,-296.88C710.66,-285.12 725.44,-271.89 738.51,-260.2\"/>\r\n",
       "<polygon fill=\"black\" stroke=\"black\" points=\"740.86,-262.8 745.98,-253.52 736.19,-257.58 740.86,-262.8\"/>\r\n",
       "</g>\r\n",
       "<!-- 21 -->\r\n",
       "<g id=\"node22\" class=\"node\">\r\n",
       "<title>21</title>\r\n",
       "<polygon fill=\"#e5823b\" stroke=\"black\" points=\"873.5,-469 719.5,-469 719.5,-401 873.5,-401 873.5,-469\"/>\r\n",
       "<text text-anchor=\"middle\" x=\"796.5\" y=\"-453.8\" font-family=\"Times New Roman,serif\" font-size=\"14.00\">perimeter error &lt;= 1.529</text>\r\n",
       "<text text-anchor=\"middle\" x=\"796.5\" y=\"-438.8\" font-family=\"Times New Roman,serif\" font-size=\"14.00\">samples = 92</text>\r\n",
       "<text text-anchor=\"middle\" x=\"796.5\" y=\"-423.8\" font-family=\"Times New Roman,serif\" font-size=\"14.00\">value = [91, 1]</text>\r\n",
       "<text text-anchor=\"middle\" x=\"796.5\" y=\"-408.8\" font-family=\"Times New Roman,serif\" font-size=\"14.00\">class = 악성</text>\r\n",
       "</g>\r\n",
       "<!-- 20&#45;&gt;21 -->\r\n",
       "<g id=\"edge21\" class=\"edge\">\r\n",
       "<title>20&#45;&gt;21</title>\r\n",
       "<path fill=\"none\" stroke=\"black\" d=\"M796.5,-504.88C796.5,-496.78 796.5,-487.98 796.5,-479.47\"/>\r\n",
       "<polygon fill=\"black\" stroke=\"black\" points=\"800,-479.3 796.5,-469.3 793,-479.3 800,-479.3\"/>\r\n",
       "</g>\r\n",
       "<!-- 24 -->\r\n",
       "<g id=\"node25\" class=\"node\">\r\n",
       "<title>24</title>\r\n",
       "<polygon fill=\"#399de5\" stroke=\"black\" points=\"987,-461.5 892,-461.5 892,-408.5 987,-408.5 987,-461.5\"/>\r\n",
       "<text text-anchor=\"middle\" x=\"939.5\" y=\"-446.3\" font-family=\"Times New Roman,serif\" font-size=\"14.00\">samples = 3</text>\r\n",
       "<text text-anchor=\"middle\" x=\"939.5\" y=\"-431.3\" font-family=\"Times New Roman,serif\" font-size=\"14.00\">value = [0, 3]</text>\r\n",
       "<text text-anchor=\"middle\" x=\"939.5\" y=\"-416.3\" font-family=\"Times New Roman,serif\" font-size=\"14.00\">class = 양성</text>\r\n",
       "</g>\r\n",
       "<!-- 20&#45;&gt;24 -->\r\n",
       "<g id=\"edge24\" class=\"edge\">\r\n",
       "<title>20&#45;&gt;24</title>\r\n",
       "<path fill=\"none\" stroke=\"black\" d=\"M842.93,-504.88C859.73,-492.9 878.66,-479.4 895.27,-467.55\"/>\r\n",
       "<polygon fill=\"black\" stroke=\"black\" points=\"897.61,-470.18 903.72,-461.52 893.55,-464.48 897.61,-470.18\"/>\r\n",
       "</g>\r\n",
       "<!-- 22 -->\r\n",
       "<g id=\"node23\" class=\"node\">\r\n",
       "<title>22</title>\r\n",
       "<polygon fill=\"#399de5\" stroke=\"black\" points=\"844,-357.5 749,-357.5 749,-304.5 844,-304.5 844,-357.5\"/>\r\n",
       "<text text-anchor=\"middle\" x=\"796.5\" y=\"-342.3\" font-family=\"Times New Roman,serif\" font-size=\"14.00\">samples = 1</text>\r\n",
       "<text text-anchor=\"middle\" x=\"796.5\" y=\"-327.3\" font-family=\"Times New Roman,serif\" font-size=\"14.00\">value = [0, 1]</text>\r\n",
       "<text text-anchor=\"middle\" x=\"796.5\" y=\"-312.3\" font-family=\"Times New Roman,serif\" font-size=\"14.00\">class = 양성</text>\r\n",
       "</g>\r\n",
       "<!-- 21&#45;&gt;22 -->\r\n",
       "<g id=\"edge22\" class=\"edge\">\r\n",
       "<title>21&#45;&gt;22</title>\r\n",
       "<path fill=\"none\" stroke=\"black\" d=\"M796.5,-400.88C796.5,-390.33 796.5,-378.6 796.5,-367.85\"/>\r\n",
       "<polygon fill=\"black\" stroke=\"black\" points=\"800,-367.52 796.5,-357.52 793,-367.52 800,-367.52\"/>\r\n",
       "</g>\r\n",
       "<!-- 23 -->\r\n",
       "<g id=\"node24\" class=\"node\">\r\n",
       "<title>23</title>\r\n",
       "<polygon fill=\"#e58139\" stroke=\"black\" points=\"960.5,-357.5 862.5,-357.5 862.5,-304.5 960.5,-304.5 960.5,-357.5\"/>\r\n",
       "<text text-anchor=\"middle\" x=\"911.5\" y=\"-342.3\" font-family=\"Times New Roman,serif\" font-size=\"14.00\">samples = 91</text>\r\n",
       "<text text-anchor=\"middle\" x=\"911.5\" y=\"-327.3\" font-family=\"Times New Roman,serif\" font-size=\"14.00\">value = [91, 0]</text>\r\n",
       "<text text-anchor=\"middle\" x=\"911.5\" y=\"-312.3\" font-family=\"Times New Roman,serif\" font-size=\"14.00\">class = 악성</text>\r\n",
       "</g>\r\n",
       "<!-- 21&#45;&gt;23 -->\r\n",
       "<g id=\"edge23\" class=\"edge\">\r\n",
       "<title>21&#45;&gt;23</title>\r\n",
       "<path fill=\"none\" stroke=\"black\" d=\"M833.84,-400.88C847.1,-389.12 862.01,-375.89 875.19,-364.2\"/>\r\n",
       "<polygon fill=\"black\" stroke=\"black\" points=\"877.57,-366.77 882.73,-357.52 872.92,-361.54 877.57,-366.77\"/>\r\n",
       "</g>\r\n",
       "</g>\r\n",
       "</svg>\r\n"
      ],
      "text/plain": [
       "<graphviz.files.Source at 0x14eea0399d0>"
      ]
     },
     "metadata": {},
     "output_type": "display_data"
    }
   ],
   "source": [
    "import graphviz\n",
    "with open(\"tree.dot\", encoding='UTF8') as f:\n",
    "    dot_graph=f.read()\n",
    "display(graphviz.Source(dot_graph))"
   ]
  },
  {
   "cell_type": "markdown",
   "metadata": {},
   "source": [
    "### 특성 중요도"
   ]
  },
  {
   "cell_type": "code",
   "execution_count": 11,
   "metadata": {},
   "outputs": [
    {
     "name": "stdout",
     "output_type": "stream",
     "text": [
      "특성 중요도:\n",
      "[0.         0.03126172 0.         0.         0.         0.\n",
      " 0.         0.         0.         0.         0.         0.0138941\n",
      " 0.01488833 0.         0.00709501 0.         0.04278436 0.\n",
      " 0.         0.01128895 0.11833153 0.01496181 0.         0.\n",
      " 0.         0.00752597 0.         0.73796821 0.         0.        ]\n"
     ]
    }
   ],
   "source": [
    "print(\"특성 중요도:\\n{}\".format(tree.feature_importances_))\n",
    "#특성의 중요도는 트리를 만드는 결정에 각 특성이 얼마나 중요한지를 평가\n",
    "#이 값은 0과 1 사이의 숫자\n",
    "#0은 전혀 사용되지 않았다\n",
    "#1은 완벽하게 타깃 클래스를 예측했다\n",
    "#특성 중요도의 전체합은 1"
   ]
  },
  {
   "cell_type": "code",
   "execution_count": 12,
   "metadata": {
    "scrolled": true
   },
   "outputs": [
    {
     "data": {
      "image/png": "[encoded data removed]",
      "text/plain": [
       "<Figure size 432x288 with 1 Axes>"
      ]
     },
     "metadata": {
      "needs_background": "light"
     },
     "output_type": "display_data"
    }
   ],
   "source": [
    "def plot_feature_importances_cancer(model):\n",
    "    n_features=cancer.data.shape[1]\n",
    "    plt.barh(range(n_features),model.feature_importances_,align='center')\n",
    "    plt.yticks(np.arange(n_features),cancer.feature_names)\n",
    "    plt.xlabel(\"특성 중요도\")\n",
    "    plt.ylabel(\"특성\")\n",
    "    plt.ylim(-1,n_features)\n",
    "    \n",
    "plot_feature_importances_cancer(tree)\n",
    "\n",
    "#특성 중요도 시각화\n",
    "#worst concave points 특성이 가장 중요한 특성으로 나타남"
   ]
  },
  {
   "cell_type": "code",
   "execution_count": 13,
   "metadata": {},
   "outputs": [
    {
     "name": "stdout",
     "output_type": "stream",
     "text": [
      "Feature importances: [0. 1.]\n"
     ]
    },
    {
     "data": {
      "image/svg+xml": [
       "<?xml version=\"1.0\" encoding=\"UTF-8\" standalone=\"no\"?>\r\n",
       "<!DOCTYPE svg PUBLIC \"-//W3C//DTD SVG 1.1//EN\"\r\n",
       " \"http://www.w3.org/Graphics/SVG/1.1/DTD/svg11.dtd\">\r\n",
       "<!-- Generated by graphviz version 2.47.0 (20210316.0004)\r\n",
       " -->\r\n",
       "<!-- Title: Tree Pages: 1 -->\r\n",
       "<svg width=\"283pt\" height=\"224pt\"\r\n",
       " viewBox=\"0.00 0.00 283.00 224.00\" xmlns=\"http://www.w3.org/2000/svg\" xmlns:xlink=\"http://www.w3.org/1999/xlink\">\r\n",
       "<g id=\"graph0\" class=\"graph\" transform=\"scale(1 1) rotate(0) translate(4 220)\">\r\n",
       "<title>Tree</title>\r\n",
       "<polygon fill=\"white\" stroke=\"transparent\" points=\"-4,4 -4,-220 279,-220 279,4 -4,4\"/>\r\n",
       "<!-- 0 -->\r\n",
       "<g id=\"node1\" class=\"node\">\r\n",
       "<title>0</title>\r\n",
       "<polygon fill=\"#ffffff\" stroke=\"black\" points=\"160,-216 56,-216 56,-163 160,-163 160,-216\"/>\r\n",
       "<text text-anchor=\"middle\" x=\"108\" y=\"-200.8\" font-family=\"Times New Roman,serif\" font-size=\"14.00\">X[1] &lt;= &#45;5.814</text>\r\n",
       "<text text-anchor=\"middle\" x=\"108\" y=\"-185.8\" font-family=\"Times New Roman,serif\" font-size=\"14.00\">samples = 100</text>\r\n",
       "<text text-anchor=\"middle\" x=\"108\" y=\"-170.8\" font-family=\"Times New Roman,serif\" font-size=\"14.00\">value = [50, 50]</text>\r\n",
       "</g>\r\n",
       "<!-- 1 -->\r\n",
       "<g id=\"node2\" class=\"node\">\r\n",
       "<title>1</title>\r\n",
       "<polygon fill=\"#e58139\" stroke=\"black\" points=\"98,-119.5 0,-119.5 0,-81.5 98,-81.5 98,-119.5\"/>\r\n",
       "<text text-anchor=\"middle\" x=\"49\" y=\"-104.3\" font-family=\"Times New Roman,serif\" font-size=\"14.00\">samples = 25</text>\r\n",
       "<text text-anchor=\"middle\" x=\"49\" y=\"-89.3\" font-family=\"Times New Roman,serif\" font-size=\"14.00\">value = [25, 0]</text>\r\n",
       "</g>\r\n",
       "<!-- 0&#45;&gt;1 -->\r\n",
       "<g id=\"edge1\" class=\"edge\">\r\n",
       "<title>0&#45;&gt;1</title>\r\n",
       "<path fill=\"none\" stroke=\"black\" d=\"M90.62,-162.87C83.16,-151.87 74.45,-139.03 66.94,-127.95\"/>\r\n",
       "<polygon fill=\"black\" stroke=\"black\" points=\"69.72,-125.82 61.21,-119.51 63.93,-129.75 69.72,-125.82\"/>\r\n",
       "<text text-anchor=\"middle\" x=\"56.5\" y=\"-140.36\" font-family=\"Times New Roman,serif\" font-size=\"14.00\">True</text>\r\n",
       "</g>\r\n",
       "<!-- 2 -->\r\n",
       "<g id=\"node3\" class=\"node\">\r\n",
       "<title>2</title>\r\n",
       "<polygon fill=\"#9ccef2\" stroke=\"black\" points=\"220,-127 116,-127 116,-74 220,-74 220,-127\"/>\r\n",
       "<text text-anchor=\"middle\" x=\"168\" y=\"-111.8\" font-family=\"Times New Roman,serif\" font-size=\"14.00\">X[1] &lt;= 5.348</text>\r\n",
       "<text text-anchor=\"middle\" x=\"168\" y=\"-96.8\" font-family=\"Times New Roman,serif\" font-size=\"14.00\">samples = 75</text>\r\n",
       "<text text-anchor=\"middle\" x=\"168\" y=\"-81.8\" font-family=\"Times New Roman,serif\" font-size=\"14.00\">value = [25, 50]</text>\r\n",
       "</g>\r\n",
       "<!-- 0&#45;&gt;2 -->\r\n",
       "<g id=\"edge2\" class=\"edge\">\r\n",
       "<title>0&#45;&gt;2</title>\r\n",
       "<path fill=\"none\" stroke=\"black\" d=\"M125.68,-162.87C131.55,-154.36 138.17,-144.75 144.41,-135.7\"/>\r\n",
       "<polygon fill=\"black\" stroke=\"black\" points=\"147.45,-137.47 150.24,-127.25 141.68,-133.49 147.45,-137.47\"/>\r\n",
       "<text text-anchor=\"middle\" x=\"154.76\" y=\"-148.14\" font-family=\"Times New Roman,serif\" font-size=\"14.00\">False</text>\r\n",
       "</g>\r\n",
       "<!-- 3 -->\r\n",
       "<g id=\"node4\" class=\"node\">\r\n",
       "<title>3</title>\r\n",
       "<polygon fill=\"#399de5\" stroke=\"black\" points=\"159,-38 61,-38 61,0 159,0 159,-38\"/>\r\n",
       "<text text-anchor=\"middle\" x=\"110\" y=\"-22.8\" font-family=\"Times New Roman,serif\" font-size=\"14.00\">samples = 50</text>\r\n",
       "<text text-anchor=\"middle\" x=\"110\" y=\"-7.8\" font-family=\"Times New Roman,serif\" font-size=\"14.00\">value = [0, 50]</text>\r\n",
       "</g>\r\n",
       "<!-- 2&#45;&gt;3 -->\r\n",
       "<g id=\"edge3\" class=\"edge\">\r\n",
       "<title>2&#45;&gt;3</title>\r\n",
       "<path fill=\"none\" stroke=\"black\" d=\"M149.33,-73.91C142.9,-65.1 135.7,-55.23 129.23,-46.36\"/>\r\n",
       "<polygon fill=\"black\" stroke=\"black\" points=\"132.03,-44.25 123.31,-38.24 126.37,-48.38 132.03,-44.25\"/>\r\n",
       "</g>\r\n",
       "<!-- 4 -->\r\n",
       "<g id=\"node5\" class=\"node\">\r\n",
       "<title>4</title>\r\n",
       "<polygon fill=\"#e58139\" stroke=\"black\" points=\"275,-38 177,-38 177,0 275,0 275,-38\"/>\r\n",
       "<text text-anchor=\"middle\" x=\"226\" y=\"-22.8\" font-family=\"Times New Roman,serif\" font-size=\"14.00\">samples = 25</text>\r\n",
       "<text text-anchor=\"middle\" x=\"226\" y=\"-7.8\" font-family=\"Times New Roman,serif\" font-size=\"14.00\">value = [25, 0]</text>\r\n",
       "</g>\r\n",
       "<!-- 2&#45;&gt;4 -->\r\n",
       "<g id=\"edge4\" class=\"edge\">\r\n",
       "<title>2&#45;&gt;4</title>\r\n",
       "<path fill=\"none\" stroke=\"black\" d=\"M186.67,-73.91C193.1,-65.1 200.3,-55.23 206.77,-46.36\"/>\r\n",
       "<polygon fill=\"black\" stroke=\"black\" points=\"209.63,-48.38 212.69,-38.24 203.97,-44.25 209.63,-48.38\"/>\r\n",
       "</g>\r\n",
       "</g>\r\n",
       "</svg>\r\n"
      ],
      "text/plain": [
       "<graphviz.files.Source at 0x14eff843040>"
      ]
     },
     "metadata": {},
     "output_type": "display_data"
    },
    {
     "data": {
      "image/png": "[encoded data removed]",
      "text/plain": [
       "<Figure size 432x288 with 1 Axes>"
      ]
     },
     "metadata": {},
     "output_type": "display_data"
    }
   ],
   "source": [
    "tree=mglearn.plots.plot_tree_not_monotone()\n",
    "display(tree)\n",
    "#아래 그림은 y축의 특성이 클래스 레이블과 복합적인 관계를 가지고 있는\n",
    "#2차원 데이터셋과 결정트리가 만든 결정 경계이다\n",
    "\n",
    "#위 그림은 아래 그림으로 나타난 데이터로 학습한 결정트리이다."
   ]
  },
  {
   "cell_type": "markdown",
   "metadata": {},
   "source": [
    "### 결정트리회귀 vs 선형회귀\n",
    "#### 램가격으로 학습"
   ]
  },
  {
   "cell_type": "code",
   "execution_count": 67,
   "metadata": {},
   "outputs": [
    {
     "name": "stdout",
     "output_type": "stream",
     "text": [
      "ram_prices.shape:(333, 3)\n",
      "ram_prices.keys:Index(['Unnamed: 0', 'date', 'price'], dtype='object')\n",
      "   Unnamed: 0    date        price\n",
      "0           0  1957.0  411041792.0\n",
      "1           1  1959.0   67947725.0\n",
      "2           2  1960.0    5242880.0\n",
      "3           3  1965.0    2642412.0\n",
      "4           4  1970.0     734003.0\n"
     ]
    },
    {
     "data": {
      "text/plain": [
       "Text(0, 0.5, '가격 ($/Mbyte)')"
      ]
     },
     "execution_count": 67,
     "metadata": {},
     "output_type": "execute_result"
    },
    {
     "data": {
      "image/png": "[encoded data removed]",
      "text/plain": [
       "<Figure size 432x288 with 1 Axes>"
      ]
     },
     "metadata": {
      "needs_background": "light"
     },
     "output_type": "display_data"
    }
   ],
   "source": [
    "#램 가격\n",
    "from sklearn.datasets import make_blobs\n",
    "import os\n",
    "ram_prices = pd.read_csv(os.path.join(mglearn.datasets.DATA_PATH,\"ram_price.csv\"))\n",
    "#ram_price.csv라는 파일을 읽어옴\n",
    "\n",
    "print(\"ram_prices.shape:{}\".format(ram_prices.shape))\n",
    "print(\"ram_prices.keys:{}\".format(ram_prices.keys()))\n",
    "print(\"{}\".format(ram_prices[:5]))\n",
    "\n",
    "plt.yticks(fontname=\"Arial\")\n",
    "plt.semilogy(ram_prices.date, ram_prices.price)\n",
    "plt.xlabel(\"년\")\n",
    "plt.ylabel(\"가격 ($/Mbyte)\")\n",
    "\n",
    "#y축은 로그 스케일\n",
    "#그래프를 로그 스케일로 그리면 약간의 굴곡을 제외하면 선형적으로 나타남\n",
    "#따라서 비교적 예측하기 쉬워짐"
   ]
  },
  {
   "cell_type": "code",
   "execution_count": 33,
   "metadata": {},
   "outputs": [
    {
     "name": "stdout",
     "output_type": "stream",
     "text": [
      "data_train.shape: (202, 3) data_test.shape:(131, 3)\n"
     ]
    }
   ],
   "source": [
    "from sklearn.tree import DecisionTreeRegressor\n",
    "from sklearn.linear_model import LinearRegression\n",
    "#2000년 이전을 훈련 데이터로, 2000년 이후를 테스트 데이터로 만듦\n",
    "data_train = ram_prices[ram_prices.date < 2000]\n",
    "data_test = ram_prices[ram_prices.date>=2000]\n",
    "\n",
    "print(\"data_train.shape: {}\".format(data_train.shape), \"data_test.shape:{}\".format(data_test.shape))\n",
    "\n",
    "#가격 예측을 위해 날짝 특성만 이용\n",
    "X_train = data_train.date[:, np.newaxis]\n",
    "#데이터와 타깃 사이의 관계를 간단하게 만들기 위해 로그 스케일로 바꿈\n",
    "y_train = np.log(data_train.price)\n",
    "\n",
    "tree=DecisionTreeRegressor().fit(X_train, y_train)\n",
    "linear_reg = LinearRegression().fit(X_train, y_train)\n",
    "\n",
    "#예측은 전체 기간에 대해서 수행\n",
    "X_all = ram_prices.date[:, np.newaxis]\n",
    "\n",
    "pred_tree = tree.predict(X_all)\n",
    "pred_lr = linear_reg.predict(X_all)\n",
    "\n",
    "#예측한 값의 로그 스케일을 되돌림\n",
    "price_tree = np.exp(pred_tree)\n",
    "price_lr = np.exp(pred_lr)"
   ]
  },
  {
   "cell_type": "code",
   "execution_count": 69,
   "metadata": {},
   "outputs": [
    {
     "data": {
      "text/plain": [
       "<matplotlib.legend.Legend at 0x14eff762b20>"
      ]
     },
     "execution_count": 69,
     "metadata": {},
     "output_type": "execute_result"
    },
    {
     "data": {
      "image/png": "[encoded data removed]",
      "text/plain": [
       "<Figure size 432x288 with 1 Axes>"
      ]
     },
     "metadata": {
      "needs_background": "light"
     },
     "output_type": "display_data"
    }
   ],
   "source": [
    "plt.yticks(fontname=\"Arial\")\n",
    "plt.semilogy(data_train.date, data_train.price, label=\"훈련 데이터\")\n",
    "plt.semilogy(data_test.date, data_test.price, label=\"테스트 데이터\")\n",
    "plt.semilogy(ram_prices.date, price_tree, label=\"트리 예측\")\n",
    "plt.semilogy(ram_prices.date, price_lr, label=\"선형회귀 예측\")\n",
    "plt.legend()\n",
    "\n",
    "#선형모델은 직선으로 데이터를 근사하였음\n",
    "#이 직선은 훈련 데이터와 테스트 데이터에 있는 미세한 굴곡을 매끈하게 근사하여\n",
    "#테스트 데이터(2000년 이후)를 꽤 적확하게 예측함\n",
    "\n",
    "#트리모델은 훈련 데이터를 완벽하게 예측함\n",
    "#트리의 복잡도에 제한을 두지 않아써 전체 데이터셋을 모두기억하기 때문\n",
    "#하지만 모델이 가진 데이터 범위 밖으로 나가면 단순히 마지막 포인트를 이용해 예측하는게 전부\n",
    "#모든 트리 기반 모델의 공통된 단점으로, 훈련 데이터 밖의 새로운 데이터를 예측할 능력이 없음\n",
    "#등락의 예측에는 적용 가능하나, 시계열 데이터에 잘 맞지 않음을 알 수 있음"
   ]
  },
  {
   "cell_type": "markdown",
   "metadata": {},
   "source": [
    "### 붓꽃 + Decision Tree Classifier(품종 분류)"
   ]
  },
  {
   "cell_type": "code",
   "execution_count": 38,
   "metadata": {},
   "outputs": [
    {
     "data": {
      "image/svg+xml": [
       "<?xml version=\"1.0\" encoding=\"UTF-8\" standalone=\"no\"?>\r\n",
       "<!DOCTYPE svg PUBLIC \"-//W3C//DTD SVG 1.1//EN\"\r\n",
       " \"http://www.w3.org/Graphics/SVG/1.1/DTD/svg11.dtd\">\r\n",
       "<!-- Generated by graphviz version 2.47.0 (20210316.0004)\r\n",
       " -->\r\n",
       "<!-- Title: Tree Pages: 1 -->\r\n",
       "<svg width=\"363pt\" height=\"314pt\"\r\n",
       " viewBox=\"0.00 0.00 363.00 314.00\" xmlns=\"http://www.w3.org/2000/svg\" xmlns:xlink=\"http://www.w3.org/1999/xlink\">\r\n",
       "<g id=\"graph0\" class=\"graph\" transform=\"scale(1 1) rotate(0) translate(4 310)\">\r\n",
       "<title>Tree</title>\r\n",
       "<polygon fill=\"white\" stroke=\"transparent\" points=\"-4,4 -4,-310 359,-310 359,4 -4,4\"/>\r\n",
       "<!-- 0 -->\r\n",
       "<g id=\"node1\" class=\"node\">\r\n",
       "<title>0</title>\r\n",
       "<path fill=\"#ffffff\" stroke=\"black\" d=\"M216.5,-306C216.5,-306 66.5,-306 66.5,-306 60.5,-306 54.5,-300 54.5,-294 54.5,-294 54.5,-235 54.5,-235 54.5,-229 60.5,-223 66.5,-223 66.5,-223 216.5,-223 216.5,-223 222.5,-223 228.5,-229 228.5,-235 228.5,-235 228.5,-294 228.5,-294 228.5,-300 222.5,-306 216.5,-306\"/>\r\n",
       "<text text-anchor=\"middle\" x=\"141.5\" y=\"-290.8\" font-family=\"Helvetica,sans-Serif\" font-size=\"14.00\">petal length (cm) &lt;= 2.45</text>\r\n",
       "<text text-anchor=\"middle\" x=\"141.5\" y=\"-275.8\" font-family=\"Helvetica,sans-Serif\" font-size=\"14.00\">gini = 0.667</text>\r\n",
       "<text text-anchor=\"middle\" x=\"141.5\" y=\"-260.8\" font-family=\"Helvetica,sans-Serif\" font-size=\"14.00\">samples = 150</text>\r\n",
       "<text text-anchor=\"middle\" x=\"141.5\" y=\"-245.8\" font-family=\"Helvetica,sans-Serif\" font-size=\"14.00\">value = [50, 50, 50]</text>\r\n",
       "<text text-anchor=\"middle\" x=\"141.5\" y=\"-230.8\" font-family=\"Helvetica,sans-Serif\" font-size=\"14.00\">class = setosa</text>\r\n",
       "</g>\r\n",
       "<!-- 1 -->\r\n",
       "<g id=\"node2\" class=\"node\">\r\n",
       "<title>1</title>\r\n",
       "<path fill=\"#e58139\" stroke=\"black\" d=\"M109,-179.5C109,-179.5 12,-179.5 12,-179.5 6,-179.5 0,-173.5 0,-167.5 0,-167.5 0,-123.5 0,-123.5 0,-117.5 6,-111.5 12,-111.5 12,-111.5 109,-111.5 109,-111.5 115,-111.5 121,-117.5 121,-123.5 121,-123.5 121,-167.5 121,-167.5 121,-173.5 115,-179.5 109,-179.5\"/>\r\n",
       "<text text-anchor=\"middle\" x=\"60.5\" y=\"-164.3\" font-family=\"Helvetica,sans-Serif\" font-size=\"14.00\">gini = 0.0</text>\r\n",
       "<text text-anchor=\"middle\" x=\"60.5\" y=\"-149.3\" font-family=\"Helvetica,sans-Serif\" font-size=\"14.00\">samples = 50</text>\r\n",
       "<text text-anchor=\"middle\" x=\"60.5\" y=\"-134.3\" font-family=\"Helvetica,sans-Serif\" font-size=\"14.00\">value = [50, 0, 0]</text>\r\n",
       "<text text-anchor=\"middle\" x=\"60.5\" y=\"-119.3\" font-family=\"Helvetica,sans-Serif\" font-size=\"14.00\">class = setosa</text>\r\n",
       "</g>\r\n",
       "<!-- 0&#45;&gt;1 -->\r\n",
       "<g id=\"edge1\" class=\"edge\">\r\n",
       "<title>0&#45;&gt;1</title>\r\n",
       "<path fill=\"none\" stroke=\"black\" d=\"M113.4,-222.91C105.61,-211.65 97.14,-199.42 89.3,-188.11\"/>\r\n",
       "<polygon fill=\"black\" stroke=\"black\" points=\"92.03,-185.9 83.46,-179.67 86.28,-189.88 92.03,-185.9\"/>\r\n",
       "<text text-anchor=\"middle\" x=\"78.99\" y=\"-200.56\" font-family=\"Helvetica,sans-Serif\" font-size=\"14.00\">True</text>\r\n",
       "</g>\r\n",
       "<!-- 2 -->\r\n",
       "<g id=\"node3\" class=\"node\">\r\n",
       "<title>2</title>\r\n",
       "<path fill=\"#ffffff\" stroke=\"black\" d=\"M295.5,-187C295.5,-187 151.5,-187 151.5,-187 145.5,-187 139.5,-181 139.5,-175 139.5,-175 139.5,-116 139.5,-116 139.5,-110 145.5,-104 151.5,-104 151.5,-104 295.5,-104 295.5,-104 301.5,-104 307.5,-110 307.5,-116 307.5,-116 307.5,-175 307.5,-175 307.5,-181 301.5,-187 295.5,-187\"/>\r\n",
       "<text text-anchor=\"middle\" x=\"223.5\" y=\"-171.8\" font-family=\"Helvetica,sans-Serif\" font-size=\"14.00\">petal width (cm) &lt;= 1.75</text>\r\n",
       "<text text-anchor=\"middle\" x=\"223.5\" y=\"-156.8\" font-family=\"Helvetica,sans-Serif\" font-size=\"14.00\">gini = 0.5</text>\r\n",
       "<text text-anchor=\"middle\" x=\"223.5\" y=\"-141.8\" font-family=\"Helvetica,sans-Serif\" font-size=\"14.00\">samples = 100</text>\r\n",
       "<text text-anchor=\"middle\" x=\"223.5\" y=\"-126.8\" font-family=\"Helvetica,sans-Serif\" font-size=\"14.00\">value = [0, 50, 50]</text>\r\n",
       "<text text-anchor=\"middle\" x=\"223.5\" y=\"-111.8\" font-family=\"Helvetica,sans-Serif\" font-size=\"14.00\">class = versicolor</text>\r\n",
       "</g>\r\n",
       "<!-- 0&#45;&gt;2 -->\r\n",
       "<g id=\"edge2\" class=\"edge\">\r\n",
       "<title>0&#45;&gt;2</title>\r\n",
       "<path fill=\"none\" stroke=\"black\" d=\"M169.95,-222.91C176.18,-214.01 182.84,-204.51 189.28,-195.33\"/>\r\n",
       "<polygon fill=\"black\" stroke=\"black\" points=\"192.23,-197.22 195.1,-187.02 186.5,-193.2 192.23,-197.22\"/>\r\n",
       "<text text-anchor=\"middle\" x=\"199.43\" y=\"-207.94\" font-family=\"Helvetica,sans-Serif\" font-size=\"14.00\">False</text>\r\n",
       "</g>\r\n",
       "<!-- 3 -->\r\n",
       "<g id=\"node4\" class=\"node\">\r\n",
       "<title>3</title>\r\n",
       "<path fill=\"#4de88e\" stroke=\"black\" d=\"M204,-68C204,-68 101,-68 101,-68 95,-68 89,-62 89,-56 89,-56 89,-12 89,-12 89,-6 95,0 101,0 101,0 204,0 204,0 210,0 216,-6 216,-12 216,-12 216,-56 216,-56 216,-62 210,-68 204,-68\"/>\r\n",
       "<text text-anchor=\"middle\" x=\"152.5\" y=\"-52.8\" font-family=\"Helvetica,sans-Serif\" font-size=\"14.00\">gini = 0.168</text>\r\n",
       "<text text-anchor=\"middle\" x=\"152.5\" y=\"-37.8\" font-family=\"Helvetica,sans-Serif\" font-size=\"14.00\">samples = 54</text>\r\n",
       "<text text-anchor=\"middle\" x=\"152.5\" y=\"-22.8\" font-family=\"Helvetica,sans-Serif\" font-size=\"14.00\">value = [0, 49, 5]</text>\r\n",
       "<text text-anchor=\"middle\" x=\"152.5\" y=\"-7.8\" font-family=\"Helvetica,sans-Serif\" font-size=\"14.00\">class = versicolor</text>\r\n",
       "</g>\r\n",
       "<!-- 2&#45;&gt;3 -->\r\n",
       "<g id=\"edge3\" class=\"edge\">\r\n",
       "<title>2&#45;&gt;3</title>\r\n",
       "<path fill=\"none\" stroke=\"black\" d=\"M197.06,-103.73C191.38,-94.97 185.38,-85.7 179.67,-76.91\"/>\r\n",
       "<polygon fill=\"black\" stroke=\"black\" points=\"182.47,-74.79 174.09,-68.3 176.6,-78.59 182.47,-74.79\"/>\r\n",
       "</g>\r\n",
       "<!-- 4 -->\r\n",
       "<g id=\"node5\" class=\"node\">\r\n",
       "<title>4</title>\r\n",
       "<path fill=\"#843de6\" stroke=\"black\" d=\"M343,-68C343,-68 246,-68 246,-68 240,-68 234,-62 234,-56 234,-56 234,-12 234,-12 234,-6 240,0 246,0 246,0 343,0 343,0 349,0 355,-6 355,-12 355,-12 355,-56 355,-56 355,-62 349,-68 343,-68\"/>\r\n",
       "<text text-anchor=\"middle\" x=\"294.5\" y=\"-52.8\" font-family=\"Helvetica,sans-Serif\" font-size=\"14.00\">gini = 0.043</text>\r\n",
       "<text text-anchor=\"middle\" x=\"294.5\" y=\"-37.8\" font-family=\"Helvetica,sans-Serif\" font-size=\"14.00\">samples = 46</text>\r\n",
       "<text text-anchor=\"middle\" x=\"294.5\" y=\"-22.8\" font-family=\"Helvetica,sans-Serif\" font-size=\"14.00\">value = [0, 1, 45]</text>\r\n",
       "<text text-anchor=\"middle\" x=\"294.5\" y=\"-7.8\" font-family=\"Helvetica,sans-Serif\" font-size=\"14.00\">class = virginica</text>\r\n",
       "</g>\r\n",
       "<!-- 2&#45;&gt;4 -->\r\n",
       "<g id=\"edge4\" class=\"edge\">\r\n",
       "<title>2&#45;&gt;4</title>\r\n",
       "<path fill=\"none\" stroke=\"black\" d=\"M249.94,-103.73C255.62,-94.97 261.62,-85.7 267.33,-76.91\"/>\r\n",
       "<polygon fill=\"black\" stroke=\"black\" points=\"270.4,-78.59 272.91,-68.3 264.53,-74.79 270.4,-78.59\"/>\r\n",
       "</g>\r\n",
       "</g>\r\n",
       "</svg>\r\n"
      ],
      "text/plain": [
       "<graphviz.files.Source at 0x14eff791730>"
      ]
     },
     "execution_count": 38,
     "metadata": {},
     "output_type": "execute_result"
    }
   ],
   "source": [
    "from sklearn.datasets import load_iris\n",
    "from sklearn.tree import DecisionTreeClassifier\n",
    "\n",
    "iris=load_iris()\n",
    "X=iris.data[:,2:] #꽃의 길이와 너비\n",
    "y=iris.target\n",
    "\n",
    "tree_clf = DecisionTreeClassifier(max_depth=2, random_state=42)\n",
    "tree_clf.fit(X,y)\n",
    "\n",
    "export_graphviz(tree_clf, out_file=\"iris_tree.dot\", feature_names=iris.feature_names[2:], class_names=iris.target_names, rounded=True, filled=True)\n",
    "graphviz.Source.from_file(\"iris_tree.dot\")\n"
   ]
  },
  {
   "cell_type": "code",
   "execution_count": 70,
   "metadata": {},
   "outputs": [
    {
     "data": {
      "image/png": "[encoded data removed]",
      "text/plain": [
       "<Figure size 720x576 with 1 Axes>"
      ]
     },
     "metadata": {
      "needs_background": "light"
     },
     "output_type": "display_data"
    }
   ],
   "source": [
    "from sklearn.tree import plot_tree\n",
    "#plot tree\n",
    "#filled=True: 클래스별로 색깔 구분\n",
    "#rounded = True\n",
    "#max_depth = 2, 출력의 단계를 결정할 수 있다.\n",
    "\n",
    "plt.figure(figsize=(10,8))\n",
    "plot_tree(tree_clf, filled=True, rounded=True, max_depth=2, \n",
    "          feature_names=iris.feature_names[2:],class_names=iris.target_names)\n",
    "plt.show()"
   ]
  },
  {
   "cell_type": "markdown",
   "metadata": {},
   "source": [
    "# 랜덤포레스트\n",
    "\n",
    "랜덤 포레스트와 그레이디언트 부스팅 결정 트리는 결정트리의 앙상블로, 둘 다 모델을 구성하는 기본 요소로 결정 트리를 사용함\n",
    "\n",
    "훈련 데이터에 과대적합 되는 결정트리의 중요 단점을 회피할 수 있음\n",
    "\n",
    "기본적으로 조금씩 다른 여러 결정 트리의 묶음\n",
    "\n",
    "랜덤포레스트의 아이디어는 각 트리는 비교적 예측을 잘 할 수 있지만 데이터의 일부에 과대적합하는 경향을 가진다는데 기초함\n",
    "\n",
    "랜덤포레스트에서 트리를 랜덤하게 만드는 방법은 두 가지임\n",
    "1. 데이터 포인트를 무작위로 선택\n",
    "2. 분할 테스트에서 특성을 무작위로 선택"
   ]
  },
  {
   "cell_type": "code",
   "execution_count": 40,
   "metadata": {},
   "outputs": [
    {
     "data": {
      "text/plain": [
       "RandomForestClassifier(n_estimators=5, random_state=2)"
      ]
     },
     "execution_count": 40,
     "metadata": {},
     "output_type": "execute_result"
    }
   ],
   "source": [
    "from sklearn.ensemble import RandomForestClassifier\n",
    "from sklearn.datasets import make_moons\n",
    "\n",
    "#n_sample개의 데이터 포인트 중에 무작위로 데이터를 n_sample 횟수만큼 반복 추출\n",
    "X,y = make_moons(n_samples=100, noise=0.25, random_state=3)\n",
    "X_train, X_test, y_train, y_test = train_test_split(X,y,stratify=y, random_state=42)\n",
    "#n_estimators매개변수는 생성할 트리의 개수. scikit-learn 0.22버전부터 디폴트값은 100\n",
    "forest=RandomForestClassifier(n_estimators=5, random_state=2)\n",
    "forest.fit(X_train,y_train)"
   ]
  },
  {
   "cell_type": "markdown",
   "metadata": {},
   "source": [
    "### 랜덤포레스트 vs 결정트리"
   ]
  },
  {
   "cell_type": "code",
   "execution_count": 42,
   "metadata": {
    "scrolled": true
   },
   "outputs": [
    {
     "name": "stdout",
     "output_type": "stream",
     "text": [
      "테스트 세트 정확도:0.920\n",
      "\n",
      "테스트 세트 정확도 CV=5:0.860\n",
      "\n",
      "테스트 세트 정확도 CV=10:0.840\n",
      "\n"
     ]
    }
   ],
   "source": [
    "from sklearn.model_selection import cross_val_score\n",
    "\n",
    "forest = RandomForestClassifier(n_estimators=5, random_state=2)\n",
    "#트리는 5개\n",
    "#5개의 트리가 만든 결정 경계가 다름\n",
    "#부트스트랩 샘플링으로 한 트리를 위한 훈련포인트가 다른 트리에는 포함되지 않을 수 있음\n",
    "#랜덤 포레스트는 개개의 트리보다 덜 과대적합하여 더 좋은 결정 경계를 만들어줌\n",
    "#많은 수의 트리를 사용하여 더 부드러운 결정 경계 생성\n",
    "forest.fit(X_train,y_train)\n",
    "print(\"테스트 세트 정확도:{:.3f}\\n\".format(forest.score(X_test,y_test)))\n",
    "\n",
    "cvscores=cross_val_score(forest,X,y,cv=5)\n",
    "print(\"테스트 세트 정확도 CV=5:{:.3f}\\n\".format(cvscores.mean()))\n",
    "\n",
    "cvscores=cross_val_score(forest,X,y,cv=10)\n",
    "print(\"테스트 세트 정확도 CV=10:{:.3f}\\n\".format(cvscores.mean()))"
   ]
  },
  {
   "cell_type": "code",
   "execution_count": 44,
   "metadata": {
    "scrolled": true
   },
   "outputs": [
    {
     "name": "stdout",
     "output_type": "stream",
     "text": [
      "테스트 세트 정확도:0.880\n",
      "\n",
      "테스트 세트 정확도 CV=5:0.860\n",
      "\n",
      "테스트 세트 정확도 CV=10:0.840\n",
      "\n"
     ]
    }
   ],
   "source": [
    "X,y = make_moons(n_samples=100, noise=0.25, random_state=3)\n",
    "X_train, X_test, y_train, y_test = train_test_split(X,y,stratify=y, random_state=42)\n",
    "dt = DecisionTreeClassifier(max_depth=None, min_samples_split=2, random_state=0)\n",
    "dt.fit(X_train, y_train)\n",
    "print(\"테스트 세트 정확도:{:.3f}\\n\".format(dt.score(X_test,y_test)))\n",
    "\n",
    "cvscores=cross_val_score(forest,X,y,cv=5)\n",
    "print(\"테스트 세트 정확도 CV=5:{:.3f}\\n\".format(cvscores.mean()))\n",
    "\n",
    "cvscores=cross_val_score(forest,X,y,cv=10)\n",
    "print(\"테스트 세트 정확도 CV=10:{:.3f}\\n\".format(cvscores.mean()))\n"
   ]
  },
  {
   "cell_type": "markdown",
   "metadata": {},
   "source": [
    "### 랜덤포레스트 유방암 데이터"
   ]
  },
  {
   "cell_type": "code",
   "execution_count": 50,
   "metadata": {},
   "outputs": [
    {
     "name": "stdout",
     "output_type": "stream",
     "text": [
      "훈련 세트 정확도:1.000\n",
      "테스트 세트 정확도:0.972\n",
      "테스트 세트 정확도 CV=10:0.910\n",
      "\n",
      "[1.  1.  0.8 0.9 1.  1.  0.7 1.  0.9 0.8]\n"
     ]
    }
   ],
   "source": [
    "X_train, X_test, y_train, y_test = train_test_split(\n",
    "    cancer.data, cancer.target, random_state=0)\n",
    "forest = RandomForestClassifier(n_estimators=100, random_state=0)\n",
    "forest.fit(X_train,y_train)\n",
    "\n",
    "print(\"훈련 세트 정확도:{:.3f}\".format(forest.score(X_train,y_train)))\n",
    "print(\"테스트 세트 정확도:{:.3f}\".format(forest.score(X_test,y_test)))\n",
    "\n",
    "cvscores=cross_val_score(forest,X,y,cv=10)\n",
    "print(\"테스트 세트 정확도 CV=10:{:.3f}\\n\".format(cvscores.mean()))\n",
    "print(cvscores)\n",
    "#선형 모델이나 단일 결정트리보다 높은 성능\n",
    "#단일 결정트리처럼 max_features 매개변수 조정, 사전 가지치기 가능\n",
    "#기본 설정으로 좋은성능"
   ]
  },
  {
   "cell_type": "markdown",
   "metadata": {},
   "source": [
    "### 특성의 중요도"
   ]
  },
  {
   "cell_type": "code",
   "execution_count": 49,
   "metadata": {
    "scrolled": false
   },
   "outputs": [
    {
     "data": {
      "image/png": "[encoded data removed]",
      "text/plain": [
       "<Figure size 432x288 with 1 Axes>"
      ]
     },
     "metadata": {
      "needs_background": "light"
     },
     "output_type": "display_data"
    }
   ],
   "source": [
    "plot_feature_importances_cancer(forest)\n",
    "#각 트리에서 특성의 중요도 취합\n",
    "#하나의 트리에서의 특성 중요도보다 신뢰 가능\n",
    "#단일 결정트리와 비교하여 많은 특성이 0이상의 중요도"
   ]
  },
  {
   "cell_type": "markdown",
   "metadata": {},
   "source": [
    "# 그레이디언트 부스팅 회귀트리\n",
    "\n",
    "이전 트리의 오차를 보완하는 방식으로 순차적으로 트리를 만듦\n",
    "\n",
    "다수의 결정 트리 기반 앙상블\n",
    "\n",
    "회귀/분류 모두에 사용\n",
    "\n",
    "랜덤성이 없고 사전 가지치기 적용\n",
    "\n",
    "5이하 깊이의 트리로 메모리 사용이 적고 예측이 빠름\n",
    "\n",
    "간단한 모델을 다수 연결: 일부에 대해 잘 예측하는 트리(약분류기)를 다수 사용\n",
    "\n",
    "매개변수 설정(사전 가지치기, 트리 개수)에 민감(매개변수 조정으로 나은 성능 가능)\n",
    "\n",
    "Learning rate(학습률): 0.0-1.0\n",
    " -이전트리의 오차 보정률\n",
    " -클수록 보정을 강하게 하여 복잡한 모델\n",
    " \n",
    "n_estimator:큰 값 -> 더 많은 트리, 복잡도 상승, 훈련세트의 실수 보정 기회 상승\n",
    "\n",
    "멀티클래스\n",
    " -n_classes *n_estimators\n",
    " -random forest 추천"
   ]
  },
  {
   "cell_type": "markdown",
   "metadata": {},
   "source": [
    "### 유방암 데이터로 학습"
   ]
  },
  {
   "cell_type": "code",
   "execution_count": 51,
   "metadata": {},
   "outputs": [
    {
     "name": "stdout",
     "output_type": "stream",
     "text": [
      "훈련 세트 정확도:1.000\n",
      "테스트 세트 정확도:0.965\n"
     ]
    }
   ],
   "source": [
    "from sklearn.ensemble import GradientBoostingClassifier\n",
    "\n",
    "X_train, X_test, y_train, y_test = train_test_split(cancer.data,cancer.target, random_state =0)\n",
    "\n",
    "gbrt = GradientBoostingClassifier(random_state=0)\n",
    "gbrt.fit(X_train,y_train)\n",
    "\n",
    "print(\"훈련 세트 정확도:{:.3f}\".format(gbrt.score(X_train,y_train)))\n",
    "print(\"테스트 세트 정확도:{:.3f}\".format(gbrt.score(X_test,y_test)))\n",
    "#기본값인 깊이가 3인 트리 100개와 학습률 0.1\n",
    "#훈련세트의 정확도가 100% -> 과대적합\n",
    "#과대적합을 막기 위해 트리의 최대 깊이를 줄여 사전 가지치기를 강하게 하거나 학습률 낮춤"
   ]
  },
  {
   "cell_type": "code",
   "execution_count": 53,
   "metadata": {},
   "outputs": [
    {
     "name": "stdout",
     "output_type": "stream",
     "text": [
      "테스트 세트 정확도 CV=5:0.850\n",
      "\n",
      "테스트 세트 정확도 CV=10:0.890\n",
      "\n"
     ]
    }
   ],
   "source": [
    "cvscores=cross_val_score(gbrt,X,y,cv=5)\n",
    "print(\"테스트 세트 정확도 CV=5:{:.3f}\\n\".format(cvscores.mean()))\n",
    "\n",
    "cvscores=cross_val_score(gbrt,X,y,cv=10)\n",
    "print(\"테스트 세트 정확도 CV=10:{:.3f}\\n\".format(cvscores.mean()))"
   ]
  },
  {
   "cell_type": "code",
   "execution_count": 55,
   "metadata": {},
   "outputs": [
    {
     "name": "stdout",
     "output_type": "stream",
     "text": [
      "훈련 세트 정확도:0.991\n",
      "테스트 세트 정확도:0.972\n",
      "테스트 세트 정확도 CV=5:0.890\n",
      "테스트 세트 정확도 CV=10:0.870\n",
      "\n"
     ]
    }
   ],
   "source": [
    "gbrt=GradientBoostingClassifier(random_state=0, max_depth=1)#트리 최대 깊이를 낮춤 -> 사전 가지치기\n",
    "gbrt.fit(X_train,y_train)#훈련\n",
    "\n",
    "\n",
    "print(\"훈련 세트 정확도:{:.3f}\".format(gbrt.score(X_train,y_train)))\n",
    "print(\"테스트 세트 정확도:{:.3f}\".format(gbrt.score(X_test,y_test)))\n",
    "cvscores=cross_val_score(gbrt,X,y,cv=10)\n",
    "print(\"테스트 세트 정확도 CV=5:{:.3f}\".format(cvscores.mean()))\n",
    "cvscores=cross_val_score(gbrt,X,y,cv=5)\n",
    "print(\"테스트 세트 정확도 CV=10:{:.3f}\\n\".format(cvscores.mean()))"
   ]
  },
  {
   "cell_type": "code",
   "execution_count": 56,
   "metadata": {},
   "outputs": [
    {
     "name": "stdout",
     "output_type": "stream",
     "text": [
      "훈련 세트 정확도:0.988\n",
      "테스트 세트 정확도:0.965\n",
      "테스트 세트 정확도 CV=5:0.870\n",
      "테스트 세트 정확도 CV=10:0.860\n",
      "\n"
     ]
    }
   ],
   "source": [
    "gbrt=GradientBoostingClassifier(random_state=0, learning_rate=0.01)#학습률 낮춤\n",
    "gbrt.fit(X_train,y_train)\n",
    "\n",
    "print(\"훈련 세트 정확도:{:.3f}\".format(gbrt.score(X_train,y_train)))\n",
    "print(\"테스트 세트 정확도:{:.3f}\".format(gbrt.score(X_test,y_test)))\n",
    "cvscores=cross_val_score(gbrt,X,y,cv=10)\n",
    "print(\"테스트 세트 정확도 CV=5:{:.3f}\".format(cvscores.mean()))\n",
    "cvscores=cross_val_score(gbrt,X,y,cv=5)\n",
    "print(\"테스트 세트 정확도 CV=10:{:.3f}\\n\".format(cvscores.mean()))"
   ]
  },
  {
   "cell_type": "markdown",
   "metadata": {},
   "source": [
    "### 그레디언트 부스팅 vs 랜덤 포레스트 특성 중요도"
   ]
  },
  {
   "cell_type": "code",
   "execution_count": 58,
   "metadata": {},
   "outputs": [
    {
     "data": {
      "image/png": "[encoded data removed]",
      "text/plain": [
       "<Figure size 432x288 with 1 Axes>"
      ]
     },
     "metadata": {
      "needs_background": "light"
     },
     "output_type": "display_data"
    }
   ],
   "source": [
    "gbrt=GradientBoostingClassifier(random_state=0, max_depth=1)\n",
    "gbrt.fit(X_train,y_train)\n",
    "\n",
    "plot_feature_importances_cancer(gbrt)"
   ]
  },
  {
   "cell_type": "code",
   "execution_count": 59,
   "metadata": {},
   "outputs": [
    {
     "data": {
      "image/png": "[encoded data removed]",
      "text/plain": [
       "<Figure size 432x288 with 1 Axes>"
      ]
     },
     "metadata": {
      "needs_background": "light"
     },
     "output_type": "display_data"
    }
   ],
   "source": [
    "plot_feature_importances_cancer(forest)"
   ]
  }
 ],
 "metadata": {
  "kernelspec": {
   "display_name": "Python 3",
   "language": "python",
   "name": "python3"
  },
  "language_info": {
   "codemirror_mode": {
    "name": "ipython",
    "version": 3
   },
   "file_extension": ".py",
   "mimetype": "text/x-python",
   "name": "python",
   "nbconvert_exporter": "python",
   "pygments_lexer": "ipython3",
   "version": "3.8.3"
  }
 },
 "nbformat": 4,
 "nbformat_minor": 4
}
